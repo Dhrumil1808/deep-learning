{
 "cells": [
  {
   "cell_type": "markdown",
   "metadata": {},
   "source": [
    "# Data Preprocessing\n",
    "Importing the libraries"
   ]
  },
  {
   "cell_type": "code",
   "execution_count": 1,
   "metadata": {
    "collapsed": true
   },
   "outputs": [],
   "source": [
    "import numpy as np\n",
    "import matplotlib.pyplot as plt\n",
    "import pandas as pd"
   ]
  },
  {
   "cell_type": "markdown",
   "metadata": {},
   "source": [
    "Importing the Dataset"
   ]
  },
  {
   "cell_type": "code",
   "execution_count": 2,
   "metadata": {
    "collapsed": true
   },
   "outputs": [],
   "source": [
    "dataset = pd.read_csv('Sample.csv')\n",
    "X = dataset.iloc[:, 3:13].values\n",
    "y = dataset.iloc[:, 13].values"
   ]
  },
  {
   "cell_type": "markdown",
   "metadata": {},
   "source": [
    "Encoding and Data Split"
   ]
  },
  {
   "cell_type": "code",
   "execution_count": 3,
   "metadata": {
    "collapsed": true
   },
   "outputs": [],
   "source": [
    "from sklearn.preprocessing import LabelEncoder, OneHotEncoder\n",
    "labelencoder_X_1 = LabelEncoder()\n",
    "X[:, 1] = labelencoder_X_1.fit_transform(X[:, 1])\n",
    "labelencoder_X_2 = LabelEncoder()\n",
    "X[:, 2] = labelencoder_X_2.fit_transform(X[:, 2])\n",
    "onehotencoder = OneHotEncoder(categorical_features = [1])\n",
    "X = onehotencoder.fit_transform(X).toarray()\n",
    "X = X[:, 1:]\n",
    "\n",
    "from sklearn.model_selection import train_test_split\n",
    "X_train, X_test, y_train, y_test = train_test_split(X, y, test_size = 0.2, random_state = 0)"
   ]
  },
  {
   "cell_type": "markdown",
   "metadata": {},
   "source": [
    "# Build NN using Keras\n",
    "Import Libraries"
   ]
  },
  {
   "cell_type": "code",
   "execution_count": 5,
   "metadata": {
    "scrolled": true
   },
   "outputs": [
    {
     "ename": "ImportError",
     "evalue": "cannot import name np_utils",
     "output_type": "error",
     "traceback": [
      "\u001b[0;31m---------------------------------------------------------------------------\u001b[0m",
      "\u001b[0;31mImportError\u001b[0m                               Traceback (most recent call last)",
      "\u001b[0;32m<ipython-input-5-ff0421aed696>\u001b[0m in \u001b[0;36m<module>\u001b[0;34m()\u001b[0m\n\u001b[0;32m----> 1\u001b[0;31m \u001b[0;32mimport\u001b[0m \u001b[0mkeras\u001b[0m\u001b[0;34m\u001b[0m\u001b[0m\n\u001b[0m\u001b[1;32m      2\u001b[0m \u001b[0;32mfrom\u001b[0m \u001b[0mkeras\u001b[0m\u001b[0;34m.\u001b[0m\u001b[0mmodels\u001b[0m \u001b[0;32mimport\u001b[0m \u001b[0mSequential\u001b[0m\u001b[0;34m\u001b[0m\u001b[0m\n\u001b[1;32m      3\u001b[0m \u001b[0;32mfrom\u001b[0m \u001b[0mkeras\u001b[0m\u001b[0;34m.\u001b[0m\u001b[0mlayers\u001b[0m \u001b[0;32mimport\u001b[0m \u001b[0mDense\u001b[0m\u001b[0;34m\u001b[0m\u001b[0m\n",
      "\u001b[0;32m/usr/local/lib/python2.7/dist-packages/keras/__init__.py\u001b[0m in \u001b[0;36m<module>\u001b[0;34m()\u001b[0m\n\u001b[1;32m      1\u001b[0m \u001b[0;32mfrom\u001b[0m \u001b[0m__future__\u001b[0m \u001b[0;32mimport\u001b[0m \u001b[0mabsolute_import\u001b[0m\u001b[0;34m\u001b[0m\u001b[0m\n\u001b[1;32m      2\u001b[0m \u001b[0;34m\u001b[0m\u001b[0m\n\u001b[0;32m----> 3\u001b[0;31m \u001b[0;32mfrom\u001b[0m \u001b[0;34m.\u001b[0m \u001b[0;32mimport\u001b[0m \u001b[0mutils\u001b[0m\u001b[0;34m\u001b[0m\u001b[0m\n\u001b[0m\u001b[1;32m      4\u001b[0m \u001b[0;32mfrom\u001b[0m \u001b[0;34m.\u001b[0m \u001b[0;32mimport\u001b[0m \u001b[0mactivations\u001b[0m\u001b[0;34m\u001b[0m\u001b[0m\n\u001b[1;32m      5\u001b[0m \u001b[0;32mfrom\u001b[0m \u001b[0;34m.\u001b[0m \u001b[0;32mimport\u001b[0m \u001b[0mapplications\u001b[0m\u001b[0;34m\u001b[0m\u001b[0m\n",
      "\u001b[0;32m/usr/local/lib/python2.7/dist-packages/keras/utils/__init__.py\u001b[0m in \u001b[0;36m<module>\u001b[0;34m()\u001b[0m\n\u001b[1;32m      1\u001b[0m \u001b[0;32mfrom\u001b[0m \u001b[0m__future__\u001b[0m \u001b[0;32mimport\u001b[0m \u001b[0mabsolute_import\u001b[0m\u001b[0;34m\u001b[0m\u001b[0m\n\u001b[0;32m----> 2\u001b[0;31m \u001b[0;32mfrom\u001b[0m \u001b[0;34m.\u001b[0m \u001b[0;32mimport\u001b[0m \u001b[0mnp_utils\u001b[0m\u001b[0;34m\u001b[0m\u001b[0m\n\u001b[0m\u001b[1;32m      3\u001b[0m \u001b[0;32mfrom\u001b[0m \u001b[0;34m.\u001b[0m \u001b[0;32mimport\u001b[0m \u001b[0mgeneric_utils\u001b[0m\u001b[0;34m\u001b[0m\u001b[0m\n\u001b[1;32m      4\u001b[0m \u001b[0;32mfrom\u001b[0m \u001b[0;34m.\u001b[0m \u001b[0;32mimport\u001b[0m \u001b[0mdata_utils\u001b[0m\u001b[0;34m\u001b[0m\u001b[0m\n\u001b[1;32m      5\u001b[0m \u001b[0;32mfrom\u001b[0m \u001b[0;34m.\u001b[0m \u001b[0;32mimport\u001b[0m \u001b[0mio_utils\u001b[0m\u001b[0;34m\u001b[0m\u001b[0m\n",
      "\u001b[0;31mImportError\u001b[0m: cannot import name np_utils"
     ]
    }
   ],
   "source": [
    "import keras\n",
    "from keras.models import Sequential\n",
    "from keras.layers import Dense"
   ]
  },
  {
   "cell_type": "markdown",
   "metadata": {},
   "source": [
    "Initialise ANN"
   ]
  },
  {
   "cell_type": "code",
   "execution_count": 6,
   "metadata": {},
   "outputs": [
    {
     "ename": "NameError",
     "evalue": "name 'Sequential' is not defined",
     "output_type": "error",
     "traceback": [
      "\u001b[0;31m---------------------------------------------------------------------------\u001b[0m",
      "\u001b[0;31mNameError\u001b[0m                                 Traceback (most recent call last)",
      "\u001b[0;32m<ipython-input-6-f03c9961ec3a>\u001b[0m in \u001b[0;36m<module>\u001b[0;34m()\u001b[0m\n\u001b[0;32m----> 1\u001b[0;31m \u001b[0mclassifier\u001b[0m \u001b[0;34m=\u001b[0m \u001b[0mSequential\u001b[0m\u001b[0;34m(\u001b[0m\u001b[0;34m)\u001b[0m\u001b[0;34m\u001b[0m\u001b[0m\n\u001b[0m",
      "\u001b[0;31mNameError\u001b[0m: name 'Sequential' is not defined"
     ]
    }
   ],
   "source": [
    "classifier = Sequential()"
   ]
  },
  {
   "cell_type": "markdown",
   "metadata": {},
   "source": [
    "Adding the input layer and the first hidden layer"
   ]
  },
  {
   "cell_type": "code",
   "execution_count": 7,
   "metadata": {},
   "outputs": [
    {
     "ename": "NameError",
     "evalue": "name 'classifier' is not defined",
     "output_type": "error",
     "traceback": [
      "\u001b[0;31m---------------------------------------------------------------------------\u001b[0m",
      "\u001b[0;31mNameError\u001b[0m                                 Traceback (most recent call last)",
      "\u001b[0;32m<ipython-input-7-4a83248a4d0a>\u001b[0m in \u001b[0;36m<module>\u001b[0;34m()\u001b[0m\n\u001b[0;32m----> 1\u001b[0;31m \u001b[0mclassifier\u001b[0m\u001b[0;34m.\u001b[0m\u001b[0madd\u001b[0m\u001b[0;34m(\u001b[0m\u001b[0mDense\u001b[0m\u001b[0;34m(\u001b[0m\u001b[0munits\u001b[0m \u001b[0;34m=\u001b[0m \u001b[0;36m6\u001b[0m\u001b[0;34m,\u001b[0m \u001b[0mkernel_initializer\u001b[0m \u001b[0;34m=\u001b[0m \u001b[0;34m'uniform'\u001b[0m\u001b[0;34m,\u001b[0m \u001b[0mactivation\u001b[0m \u001b[0;34m=\u001b[0m \u001b[0;34m'relu'\u001b[0m\u001b[0;34m,\u001b[0m \u001b[0minput_dim\u001b[0m \u001b[0;34m=\u001b[0m \u001b[0;36m11\u001b[0m\u001b[0;34m)\u001b[0m\u001b[0;34m)\u001b[0m\u001b[0;34m\u001b[0m\u001b[0m\n\u001b[0m",
      "\u001b[0;31mNameError\u001b[0m: name 'classifier' is not defined"
     ]
    }
   ],
   "source": [
    "classifier.add(Dense(units = 6, kernel_initializer = 'uniform', activation = 'relu', input_dim = 11))"
   ]
  },
  {
   "cell_type": "markdown",
   "metadata": {},
   "source": [
    "Adding the output layer"
   ]
  },
  {
   "cell_type": "code",
   "execution_count": 8,
   "metadata": {},
   "outputs": [
    {
     "ename": "NameError",
     "evalue": "name 'classifier' is not defined",
     "output_type": "error",
     "traceback": [
      "\u001b[0;31m---------------------------------------------------------------------------\u001b[0m",
      "\u001b[0;31mNameError\u001b[0m                                 Traceback (most recent call last)",
      "\u001b[0;32m<ipython-input-8-87afc9ebcebe>\u001b[0m in \u001b[0;36m<module>\u001b[0;34m()\u001b[0m\n\u001b[0;32m----> 1\u001b[0;31m \u001b[0mclassifier\u001b[0m\u001b[0;34m.\u001b[0m\u001b[0madd\u001b[0m\u001b[0;34m(\u001b[0m\u001b[0mDense\u001b[0m\u001b[0;34m(\u001b[0m\u001b[0munits\u001b[0m \u001b[0;34m=\u001b[0m \u001b[0;36m1\u001b[0m\u001b[0;34m,\u001b[0m \u001b[0mkernel_initializer\u001b[0m \u001b[0;34m=\u001b[0m \u001b[0;34m'uniform'\u001b[0m\u001b[0;34m,\u001b[0m \u001b[0mactivation\u001b[0m \u001b[0;34m=\u001b[0m \u001b[0;34m'sigmoid'\u001b[0m\u001b[0;34m)\u001b[0m\u001b[0;34m)\u001b[0m\u001b[0;34m\u001b[0m\u001b[0m\n\u001b[0m",
      "\u001b[0;31mNameError\u001b[0m: name 'classifier' is not defined"
     ]
    }
   ],
   "source": [
    "classifier.add(Dense(units = 1, kernel_initializer = 'uniform', activation = 'sigmoid'))"
   ]
  },
  {
   "cell_type": "markdown",
   "metadata": {},
   "source": [
    "Compiling the ANN"
   ]
  },
  {
   "cell_type": "code",
   "execution_count": 9,
   "metadata": {},
   "outputs": [
    {
     "ename": "NameError",
     "evalue": "name 'classifier' is not defined",
     "output_type": "error",
     "traceback": [
      "\u001b[0;31m---------------------------------------------------------------------------\u001b[0m",
      "\u001b[0;31mNameError\u001b[0m                                 Traceback (most recent call last)",
      "\u001b[0;32m<ipython-input-9-bdfe6dd46c1c>\u001b[0m in \u001b[0;36m<module>\u001b[0;34m()\u001b[0m\n\u001b[0;32m----> 1\u001b[0;31m \u001b[0mclassifier\u001b[0m\u001b[0;34m.\u001b[0m\u001b[0mcompile\u001b[0m\u001b[0;34m(\u001b[0m\u001b[0moptimizer\u001b[0m \u001b[0;34m=\u001b[0m \u001b[0;34m'adam'\u001b[0m\u001b[0;34m,\u001b[0m \u001b[0mloss\u001b[0m \u001b[0;34m=\u001b[0m \u001b[0;34m'binary_crossentropy'\u001b[0m\u001b[0;34m,\u001b[0m \u001b[0mmetrics\u001b[0m \u001b[0;34m=\u001b[0m \u001b[0;34m[\u001b[0m\u001b[0;34m'accuracy'\u001b[0m\u001b[0;34m]\u001b[0m\u001b[0;34m)\u001b[0m\u001b[0;34m\u001b[0m\u001b[0m\n\u001b[0m",
      "\u001b[0;31mNameError\u001b[0m: name 'classifier' is not defined"
     ]
    }
   ],
   "source": [
    "classifier.compile(optimizer = 'adam', loss = 'binary_crossentropy', metrics = ['accuracy'])"
   ]
  },
  {
   "cell_type": "markdown",
   "metadata": {},
   "source": [
    "Fitting the ANN to the Training set"
   ]
  },
  {
   "cell_type": "code",
   "execution_count": 9,
   "metadata": {},
   "outputs": [
    {
     "name": "stdout",
     "output_type": "stream",
     "text": [
      "Epoch 1/100\n",
      "8000/8000 [==============================] - 2s - loss: 3.4684 - acc: 0.7830     \n",
      "Epoch 2/100\n",
      "8000/8000 [==============================] - 0s - loss: 3.2658 - acc: 0.7939     \n",
      "Epoch 3/100\n",
      "8000/8000 [==============================] - 0s - loss: 6.8331 - acc: 0.5679     \n",
      "Epoch 4/100\n",
      "8000/8000 [==============================] - 0s - loss: 3.2822 - acc: 0.7960     \n",
      "Epoch 5/100\n",
      "8000/8000 [==============================] - 0s - loss: 3.2819 - acc: 0.7960     \n",
      "Epoch 6/100\n",
      "8000/8000 [==============================] - 1s - loss: 3.2809 - acc: 0.7960     - ETA: 0s - loss: 3.2123 - acc: \n",
      "Epoch 7/100\n",
      "8000/8000 [==============================] - 1s - loss: 3.2747 - acc: 0.7960     - ETA: 0s - loss: 3.\n",
      "Epoch 8/100\n",
      "8000/8000 [==============================] - 1s - loss: 2.1097 - acc: 0.7537     \n",
      "Epoch 9/100\n",
      "8000/8000 [==============================] - 1s - loss: 0.5097 - acc: 0.7960     \n",
      "Epoch 10/100\n",
      "8000/8000 [==============================] - 1s - loss: 0.5063 - acc: 0.7960     \n",
      "Epoch 11/100\n",
      "8000/8000 [==============================] - 1s - loss: 0.5060 - acc: 0.7960     \n",
      "Epoch 12/100\n",
      "8000/8000 [==============================] - 1s - loss: 0.5060 - acc: 0.7960     \n",
      "Epoch 13/100\n",
      "8000/8000 [==============================] - 1s - loss: 0.5059 - acc: 0.7960     \n",
      "Epoch 14/100\n",
      "8000/8000 [==============================] - 0s - loss: 0.5060 - acc: 0.7960     \n",
      "Epoch 15/100\n",
      "8000/8000 [==============================] - 1s - loss: 0.5060 - acc: 0.7960     - ETA: 0s - loss: 0.5063 - acc: 0.7\n",
      "Epoch 16/100\n",
      "8000/8000 [==============================] - 1s - loss: 0.5060 - acc: 0.7960     \n",
      "Epoch 17/100\n",
      "8000/8000 [==============================] - 1s - loss: 0.5059 - acc: 0.7960     \n",
      "Epoch 18/100\n",
      "8000/8000 [==============================] - 1s - loss: 0.5059 - acc: 0.7960     \n",
      "Epoch 19/100\n",
      "8000/8000 [==============================] - 1s - loss: 0.5060 - acc: 0.7960     - ETA: 0s - loss: 0.507\n",
      "Epoch 20/100\n",
      "8000/8000 [==============================] - 1s - loss: 0.5060 - acc: 0.7960     \n",
      "Epoch 21/100\n",
      "8000/8000 [==============================] - 1s - loss: 0.5060 - acc: 0.7960     - ETA: 0s - loss: 0.49\n",
      "Epoch 22/100\n",
      "8000/8000 [==============================] - 2s - loss: 0.5059 - acc: 0.7960     \n",
      "Epoch 23/100\n",
      "8000/8000 [==============================] - 3s - loss: 0.5060 - acc: 0.7960     \n",
      "Epoch 24/100\n",
      "8000/8000 [==============================] - 3s - loss: 0.5060 - acc: 0.7960     \n",
      "Epoch 25/100\n",
      "8000/8000 [==============================] - 2s - loss: 0.5060 - acc: 0.7960     \n",
      "Epoch 26/100\n",
      "8000/8000 [==============================] - 2s - loss: 0.5060 - acc: 0.7960     \n",
      "Epoch 27/100\n",
      "8000/8000 [==============================] - 2s - loss: 0.5059 - acc: 0.7960     \n",
      "Epoch 28/100\n",
      "8000/8000 [==============================] - 2s - loss: 0.5060 - acc: 0.7960     \n",
      "Epoch 29/100\n",
      "8000/8000 [==============================] - 2s - loss: 0.5059 - acc: 0.7960     \n",
      "Epoch 30/100\n",
      "8000/8000 [==============================] - 2s - loss: 0.5059 - acc: 0.7960     \n",
      "Epoch 31/100\n",
      "8000/8000 [==============================] - 1s - loss: 0.5060 - acc: 0.7960     - ETA: 0s - loss: 0.5055 - acc: 0.796\n",
      "Epoch 32/100\n",
      "8000/8000 [==============================] - 1s - loss: 0.5060 - acc: 0.7960     \n",
      "Epoch 33/100\n",
      "8000/8000 [==============================] - 1s - loss: 0.5059 - acc: 0.7960     - ETA: 0s - loss: 0.51\n",
      "Epoch 34/100\n",
      "8000/8000 [==============================] - 1s - loss: 0.5060 - acc: 0.7960     - ETA: 0s - loss: 0.5\n",
      "Epoch 35/100\n",
      "8000/8000 [==============================] - 1s - loss: 0.5059 - acc: 0.7960     \n",
      "Epoch 36/100\n",
      "8000/8000 [==============================] - 1s - loss: 0.5060 - acc: 0.7960     \n",
      "Epoch 37/100\n",
      "8000/8000 [==============================] - 1s - loss: 0.5059 - acc: 0.7960     \n",
      "Epoch 38/100\n",
      "8000/8000 [==============================] - 2s - loss: 0.5059 - acc: 0.7960     \n",
      "Epoch 39/100\n",
      "8000/8000 [==============================] - 1s - loss: 0.5060 - acc: 0.7960     \n",
      "Epoch 40/100\n",
      "8000/8000 [==============================] - 1s - loss: 0.5059 - acc: 0.7960     \n",
      "Epoch 41/100\n",
      "8000/8000 [==============================] - 1s - loss: 0.5059 - acc: 0.7960     \n",
      "Epoch 42/100\n",
      "8000/8000 [==============================] - 1s - loss: 0.5060 - acc: 0.7960     \n",
      "Epoch 43/100\n",
      "8000/8000 [==============================] - 1s - loss: 0.5060 - acc: 0.7960     - ETA: 1s - lo\n",
      "Epoch 44/100\n",
      "8000/8000 [==============================] - 1s - loss: 0.5060 - acc: 0.7960     \n",
      "Epoch 45/100\n",
      "8000/8000 [==============================] - 1s - loss: 0.5060 - acc: 0.7960     \n",
      "Epoch 46/100\n",
      "8000/8000 [==============================] - 1s - loss: 0.5059 - acc: 0.7960     - ETA: 1s - los\n",
      "Epoch 47/100\n",
      "8000/8000 [==============================] - 2s - loss: 0.5060 - acc: 0.7960     \n",
      "Epoch 48/100\n",
      "8000/8000 [==============================] - 1s - loss: 0.5060 - acc: 0.7960     \n",
      "Epoch 49/100\n",
      "8000/8000 [==============================] - 1s - loss: 0.5060 - acc: 0.7960     \n",
      "Epoch 50/100\n",
      "8000/8000 [==============================] - 1s - loss: 0.5060 - acc: 0.7960     \n",
      "Epoch 51/100\n",
      "8000/8000 [==============================] - 3s - loss: 0.5060 - acc: 0.7960     \n",
      "Epoch 52/100\n",
      "8000/8000 [==============================] - 2s - loss: 0.5060 - acc: 0.7960     \n",
      "Epoch 53/100\n",
      "8000/8000 [==============================] - 2s - loss: 0.5060 - acc: 0.7960     \n",
      "Epoch 54/100\n",
      "8000/8000 [==============================] - 2s - loss: 0.5059 - acc: 0.7960     \n",
      "Epoch 55/100\n",
      "8000/8000 [==============================] - 2s - loss: 0.5059 - acc: 0.7960     \n",
      "Epoch 56/100\n",
      "8000/8000 [==============================] - 2s - loss: 0.5059 - acc: 0.7960     \n",
      "Epoch 57/100\n",
      "8000/8000 [==============================] - 2s - loss: 0.5060 - acc: 0.7960     \n",
      "Epoch 58/100\n",
      "8000/8000 [==============================] - 1s - loss: 0.5059 - acc: 0.7960     \n",
      "Epoch 59/100\n",
      "8000/8000 [==============================] - 1s - loss: 0.5060 - acc: 0.7960     - ETA: 0s - loss: 0.503\n",
      "Epoch 60/100\n",
      "8000/8000 [==============================] - 1s - loss: 0.5060 - acc: 0.7960     \n",
      "Epoch 61/100\n",
      "8000/8000 [==============================] - 3s - loss: 0.5059 - acc: 0.7960     \n",
      "Epoch 62/100\n",
      "8000/8000 [==============================] - 4s - loss: 0.5059 - acc: 0.7960     \n",
      "Epoch 63/100\n",
      "8000/8000 [==============================] - 2s - loss: 0.5059 - acc: 0.7960     \n",
      "Epoch 64/100\n",
      "8000/8000 [==============================] - 2s - loss: 0.5060 - acc: 0.7960     \n",
      "Epoch 65/100\n",
      "8000/8000 [==============================] - 2s - loss: 0.5060 - acc: 0.7960     \n",
      "Epoch 66/100\n",
      "8000/8000 [==============================] - 2s - loss: 0.5059 - acc: 0.7960     \n",
      "Epoch 67/100\n",
      "8000/8000 [==============================] - 2s - loss: 0.5060 - acc: 0.7960     \n",
      "Epoch 68/100\n",
      "8000/8000 [==============================] - 2s - loss: 0.5059 - acc: 0.7960     \n",
      "Epoch 69/100\n",
      "8000/8000 [==============================] - 1s - loss: 0.5059 - acc: 0.7960     \n",
      "Epoch 70/100\n",
      "8000/8000 [==============================] - 1s - loss: 0.5059 - acc: 0.7960     \n",
      "Epoch 71/100\n",
      "8000/8000 [==============================] - 1s - loss: 0.5060 - acc: 0.7960     - ETA: 1s -\n",
      "Epoch 72/100\n",
      "8000/8000 [==============================] - 1s - loss: 0.5060 - acc: 0.7960     \n",
      "Epoch 73/100\n",
      "8000/8000 [==============================] - 1s - loss: 0.5059 - acc: 0.7960     \n",
      "Epoch 74/100\n",
      "8000/8000 [==============================] - 1s - loss: 0.5059 - acc: 0.7960     \n",
      "Epoch 75/100\n",
      "8000/8000 [==============================] - 1s - loss: 0.5059 - acc: 0.7960     - ETA: 0s - loss\n",
      "Epoch 76/100\n",
      "8000/8000 [==============================] - 2s - loss: 0.5060 - acc: 0.7960     \n",
      "Epoch 77/100\n",
      "8000/8000 [==============================] - 2s - loss: 0.5060 - acc: 0.7960     \n",
      "Epoch 78/100\n",
      "8000/8000 [==============================] - 3s - loss: 0.5059 - acc: 0.7960     \n",
      "Epoch 79/100\n",
      "8000/8000 [==============================] - 2s - loss: 0.5060 - acc: 0.7960     \n",
      "Epoch 80/100\n",
      "8000/8000 [==============================] - 2s - loss: 0.5059 - acc: 0.7960     \n",
      "Epoch 81/100\n",
      "8000/8000 [==============================] - 2s - loss: 0.5059 - acc: 0.7960     \n",
      "Epoch 82/100\n",
      "8000/8000 [==============================] - 3s - loss: 0.5060 - acc: 0.7960     \n",
      "Epoch 83/100\n",
      "8000/8000 [==============================] - 2s - loss: 0.5060 - acc: 0.7960     - ETA: 1s - loss: 0.\n",
      "Epoch 84/100\n",
      "8000/8000 [==============================] - 1s - loss: 0.5060 - acc: 0.7960     \n",
      "Epoch 85/100\n",
      "8000/8000 [==============================] - 1s - loss: 0.5059 - acc: 0.7960     \n",
      "Epoch 86/100\n",
      "8000/8000 [==============================] - 2s - loss: 0.5060 - acc: 0.7960     \n",
      "Epoch 87/100\n",
      "8000/8000 [==============================] - 1s - loss: 0.5060 - acc: 0.7960     - ETA: 0s - loss: 0.513\n",
      "Epoch 88/100\n",
      "8000/8000 [==============================] - 1s - loss: 0.5060 - acc: 0.7960     \n",
      "Epoch 89/100\n",
      "8000/8000 [==============================] - 2s - loss: 0.5060 - acc: 0.7960     \n",
      "Epoch 90/100\n",
      "8000/8000 [==============================] - 1s - loss: 0.5060 - acc: 0.7960     \n",
      "Epoch 91/100\n",
      "8000/8000 [==============================] - 2s - loss: 0.5059 - acc: 0.7960     \n",
      "Epoch 92/100\n",
      "8000/8000 [==============================] - 2s - loss: 0.5059 - acc: 0.7960     \n",
      "Epoch 93/100\n",
      "8000/8000 [==============================] - 2s - loss: 0.5060 - acc: 0.7960     \n",
      "Epoch 94/100\n",
      "8000/8000 [==============================] - 2s - loss: 0.5060 - acc: 0.7960     \n",
      "Epoch 95/100\n",
      "8000/8000 [==============================] - 2s - loss: 0.5059 - acc: 0.7960     \n",
      "Epoch 96/100\n",
      "8000/8000 [==============================] - 2s - loss: 0.5060 - acc: 0.7960     \n",
      "Epoch 97/100\n",
      "8000/8000 [==============================] - 1s - loss: 0.5059 - acc: 0.7960     \n",
      "Epoch 98/100\n",
      "8000/8000 [==============================] - 1s - loss: 0.5059 - acc: 0.7960     \n",
      "Epoch 99/100\n",
      "8000/8000 [==============================] - 1s - loss: 0.5059 - acc: 0.7960     \n",
      "Epoch 100/100\n",
      "8000/8000 [==============================] - 1s - loss: 0.5059 - acc: 0.7960     \n"
     ]
    },
    {
     "data": {
      "text/plain": [
       "<keras.callbacks.History at 0x11714be0>"
      ]
     },
     "execution_count": 9,
     "metadata": {},
     "output_type": "execute_result"
    }
   ],
   "source": [
    "classifier.fit(X_train, y_train, batch_size = 10, epochs = 100)"
   ]
  }
 ],
 "metadata": {
  "kernelspec": {
   "display_name": "Python 2",
   "language": "python",
   "name": "python2"
  },
  "language_info": {
   "codemirror_mode": {
    "name": "ipython",
    "version": 2
   },
   "file_extension": ".py",
   "mimetype": "text/x-python",
   "name": "python",
   "nbconvert_exporter": "python",
   "pygments_lexer": "ipython2",
   "version": "2.7.6"
  }
 },
 "nbformat": 4,
 "nbformat_minor": 2
}
