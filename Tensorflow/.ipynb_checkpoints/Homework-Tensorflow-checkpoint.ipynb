{
 "cells": [
  {
   "cell_type": "raw",
   "metadata": {},
   "source": [
    "# 1. Create\ttwo\t0-d\ttensors\ta\tand\tb\trandomly\tselected\tfrom\tthe\trange\t[-1,\t1).\t\t\n",
    "a. Return\ta+b\tif\ta<b\t\n",
    "b. Return\t0\tif\ta>b.\tYou\tcan\tuse\ttf.case()\tif\tit\thelps\t\n"
   ]
  },
  {
   "cell_type": "code",
   "execution_count": 55,
   "metadata": {},
   "outputs": [
    {
     "name": "stdout",
     "output_type": "stream",
     "text": [
      "[-0.11645746, 0.80545688, 0.68899941]\n"
     ]
    }
   ],
   "source": [
    "import tensorflow as tf\n",
    "a = tf.random_uniform([], -1, 1,tf.float32)\n",
    "b = tf.random_uniform([], -1, 1,tf.float32)\n",
    "def f1():return tf.add(a,b)\n",
    "def f2():return 0.0\n",
    "r = tf.case([(tf.less(a, b), f1)], default=f2)\n",
    "init_op = tf.global_variables_initializer()\n",
    "\n",
    "model = tf.global_variables_initializer()\n",
    "session = tf.Session()\n",
    "\n",
    "print(session.run([a,b,r]))"
   ]
  },
  {
   "cell_type": "markdown",
   "metadata": {},
   "source": [
    "2) Create\ta\t2d\ttensor\tof\tsize\t16x16\tfrom\tany\tdistribution\t\n",
    "a)  Calculate\tthe\tdeterminant\tusing\ttensorflow."
   ]
  },
  {
   "cell_type": "code",
   "execution_count": 56,
   "metadata": {
    "scrolled": true
   },
   "outputs": [
    {
     "name": "stdout",
     "output_type": "stream",
     "text": [
      "-0.00808974\n"
     ]
    }
   ],
   "source": [
    "import tensorflow as tf\n",
    "\n",
    "g =  tf.random_uniform([16,16],1,2,tf.float32)\n",
    "result = tf.matrix_determinant(g)\n",
    "\n",
    "with tf.Session() as sess:\n",
    "    print sess.run(result)"
   ]
  },
  {
   "cell_type": "markdown",
   "metadata": {},
   "source": [
    "3. Create\tthe\ttensor\tt\tof\tvalue\t\t\n",
    "[30.05088806,\t\t17.61298943,\t\t41.19073486,\t\t19.35532951,\t\n",
    "31.97266006,\t\t16.67541885,\t\t28.08450317,\t\t21.74983215,\t\n",
    "32.94445419,\t\t30.45999146,\t\t39.06485367,\t\t32.01657104,\t\n",
    "26.88236427,\t\t27.56035233,\t\t10.20379066,\t\t22.51215172,\t\n",
    "30.71149445,\t\t24.59134293,\t\t56.05556488,\t\t30.66994858]\t\n",
    "a. Get\tthe\tindices\tof\telements\tin\tt\twhose\tvalues\tare\tgreater\tthan\t25.\t\n",
    "b. Extract\tthe\telement\twhose\tvalues\tare\tgreater\tthan\t30.\t\t\n",
    "You\tcan\ttry\ttf.where()\tand\ttf.gather()\t"
   ]
  },
  {
   "cell_type": "code",
   "execution_count": 57,
   "metadata": {},
   "outputs": [
    {
     "name": "stdout",
     "output_type": "stream",
     "text": [
      "Indices having value greater than 25\n",
      "0\n",
      "2\n",
      "4\n",
      "6\n",
      "8\n",
      "9\n",
      "10\n",
      "11\n",
      "12\n",
      "13\n",
      "16\n",
      "18\n",
      "19\n",
      "Elements greater than 30\n",
      "30.0509\n",
      "41.1907\n",
      "31.9727\n",
      "32.9445\n",
      "30.46\n",
      "39.0649\n",
      "32.0166\n",
      "30.7115\n",
      "56.0556\n",
      "30.6699\n"
     ]
    }
   ],
   "source": [
    "import tensorflow as tf\n",
    "t = tf.constant([30.05088806,17.61298943,41.19073486,19.35532951,31.97266006,16.67541885,28.08450317,21.74983215,32.94445419,30.45999146,39.06485367,32.01657104,26.88236427,27.56035233,10.20379066,22.51215172,30.71149445,24.59134293,56.05556488,30.66994858])\n",
    "print \"Indices having value greater than 25\"\n",
    "for i in range(0,20):\n",
    "    j=i\n",
    "    r = tf.greater(t[i],25)\n",
    "    with tf.Session() as sess:\n",
    "            if(sess.run(r)):\n",
    "                 print j\n",
    "print \"Elements greater than 30\"\n",
    "for i in range(0,20):\n",
    "    j=i\n",
    "    r = tf.greater(t[i],30)\n",
    "    with tf.Session() as sess:\n",
    "            if(sess.run(r)):\n",
    "                 print sess.run(t[i])\n",
    "     "
   ]
  },
  {
   "cell_type": "markdown",
   "metadata": {
    "collapsed": true
   },
   "source": [
    "4 Create\tthe\ttensor\tt\tof\tthe\tvalue\t[[-1,\t0,\t2],\t[1,\t0,\t2]]\tand\tt1\tas\ttensor\tof\tzeros\twith the  same\tshape\tas\tt.\tReturn\ta\tboolean\ttensor\tthat\tyields\tTrues\tif\tt\tequals\tt1\telement-wise.\t"
   ]
  },
  {
   "cell_type": "code",
   "execution_count": 1,
   "metadata": {},
   "outputs": [
    {
     "name": "stdout",
     "output_type": "stream",
     "text": [
      "[[False  True False]\n",
      " [False  True False]]\n"
     ]
    }
   ],
   "source": [
    "import tensorflow as tf\n",
    "t=tf.constant([[-1,0,2],[1,0,2]])\n",
    "t1=tf.zeros([2,3],tf.int32)\n",
    "result = tf.equal(t,t1)\n",
    "\n",
    "with tf.Session() as sess:\n",
    "    print sess.run(result)"
   ]
  },
  {
   "cell_type": "markdown",
   "metadata": {
    "collapsed": true
   },
   "source": [
    "5) Create\ta\tcsv\tfile\tusing\tthe\tbelow\ttabular\tdata,\tname\tit\tplace_holder.csv.\t\n",
    "\n",
    "\n"
   ]
  },
  {
   "cell_type": "code",
   "execution_count": 9,
   "metadata": {},
   "outputs": [
    {
     "name": "stdout",
     "output_type": "stream",
     "text": [
      "[  5.5          9.5         11.10000038  20.5          5.30000019\n",
      "  14.19999981   6.80000019  17.59999847  14.80000019  13.69999981]\n"
     ]
    }
   ],
   "source": [
    "import csv\n",
    "import tensorflow as tf\n",
    "from pandas import DataFrame, read_csv\n",
    "import matplotlib.pyplot as plt\n",
    "import pandas as pd \n",
    "\n",
    "x=tf.placeholder(tf.float32)\n",
    "y=tf.placeholder(tf.float32)\n",
    "\n",
    "file = r'place_holder.csv'\n",
    "df = pd.read_csv(file)\n",
    "X=df['X']\n",
    "Y=df['Y']\n",
    "c=  tf.fill([10,1],2.0)\n",
    "summation = x + y + c\n",
    "sess=tf.Session()\n",
    "print sess.run(summation[0],{x:X,y:Y})              "
   ]
  },
  {
   "cell_type": "code",
   "execution_count": null,
   "metadata": {
    "collapsed": true
   },
   "outputs": [],
   "source": []
  }
 ],
 "metadata": {
  "kernelspec": {
   "display_name": "Python 2",
   "language": "python",
   "name": "python2"
  },
  "language_info": {
   "codemirror_mode": {
    "name": "ipython",
    "version": 2
   },
   "file_extension": ".py",
   "mimetype": "text/x-python",
   "name": "python",
   "nbconvert_exporter": "python",
   "pygments_lexer": "ipython2",
   "version": "2.7.13"
  }
 },
 "nbformat": 4,
 "nbformat_minor": 2
}
